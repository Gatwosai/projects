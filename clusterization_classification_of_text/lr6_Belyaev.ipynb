{
 "cells": [
  {
   "cell_type": "code",
   "execution_count": 1,
   "metadata": {},
   "outputs": [],
   "source": [
    "from sklearn.datasets import load_files"
   ]
  },
  {
   "cell_type": "code",
   "execution_count": 2,
   "metadata": {},
   "outputs": [],
   "source": [
    "train_all = load_files('./20news-bydate/20news-bydate-train')        "
   ]
  },
  {
   "cell_type": "code",
   "execution_count": 3,
   "metadata": {},
   "outputs": [
    {
     "name": "stdout",
     "output_type": "stream",
     "text": [
      "['alt.atheism', 'comp.graphics', 'comp.os.ms-windows.misc', 'comp.sys.ibm.pc.hardware', 'comp.sys.mac.hardware', 'comp.windows.x', 'misc.forsale', 'rec.autos', 'rec.motorcycles', 'rec.sport.baseball', 'rec.sport.hockey', 'sci.crypt', 'sci.electronics', 'sci.med', 'sci.space', 'soc.religion.christian', 'talk.politics.guns', 'talk.politics.mideast', 'talk.politics.misc', 'talk.religion.misc']\n"
     ]
    }
   ],
   "source": [
    "print(train_all.target_names)"
   ]
  },
  {
   "cell_type": "code",
   "execution_count": 4,
   "metadata": {},
   "outputs": [],
   "source": [
    "simple_dataset = load_files('./20news-bydate/20news-bydate-train',\n",
    "                            categories=['sci.space', 'rec.motorcycles', 'alt.atheism'],\n",
    "                            encoding='cp1251')"
   ]
  },
  {
   "cell_type": "code",
   "execution_count": 5,
   "metadata": {},
   "outputs": [
    {
     "name": "stdout",
     "output_type": "stream",
     "text": [
      "From: jlevine@rd.hydro.on.ca (Jody Levine)\n",
      "Subject: Re: Observation re: helmets\n",
      "Organization: Ontario Hydro - Research Division\n",
      "Distribution: usa\n",
      "Lines: 19\n",
      "\n",
      "In article <1993Apr15.220511.11311@research.nj.nec.com> behanna@syl.nj.nec.com (Chris BeHanna) writes:\n",
      ">\tDo I have to be the one to say it?\n",
      ">\n",
      ">\tDON'T BE SO STUPID AS TO LEAVE YOUR HELMET ON THE SEAT WHERE IT CAN\n",
      ">\tFALL DOWN AND GO BOOM!\n",
      "\n",
      "True enough. I put it on the ground if it's free of spooge, or directly\n",
      "on my head otherwise.\n",
      "\n",
      ">\tThat kind of fall is what the helmet is designed to protect against.\n",
      "\n",
      "Not exactly. The helmet has a lot less energy if your head isn't in it, and\n",
      "there's no lump inside to compress the liner against the shell. Is a drop\n",
      "off the seat enough to crack the shell? I doubt it, but you can always\n",
      "send it to be inspected.\n",
      "\n",
      "I've        bike                      like       | Jody Levine  DoD #275 kV\n",
      "     got a       you can        if you      -PF  | Jody.P.Levine@hydro.on.ca\n",
      "                         ride it                 | Toronto, Ontario, Canada\n",
      "\n"
     ]
    }
   ],
   "source": [
    "print(simple_dataset.data[0])"
   ]
  },
  {
   "cell_type": "code",
   "execution_count": 6,
   "metadata": {},
   "outputs": [
    {
     "name": "stdout",
     "output_type": "stream",
     "text": [
      "From: shafer@rigel.dfrf.nasa.gov (Mary Shafer)\n",
      "Subject: Re: Crazy? or just Imaginitive?\n",
      "In-Reply-To: nsmca@aurora.alaska.edu's message of Thu, 22 Apr 1993 04:54:03 GMT\n",
      "Organization: NASA Dryden, Edwards, Cal.\n",
      "Lines: 25\n",
      "\n",
      "On Thu, 22 Apr 1993 04:54:03 GMT, nsmca@aurora.alaska.edu said:\n",
      "\n",
      "nsmca> So some of my ideas are a bit odd, off the wall and such, but\n",
      "nsmca> so was Wilbur and Orville Wright, and quite a few others..\n",
      "\n",
      "This is a common misconception.  There was nothing \"off the wall\"\n",
      "about the Wright Brothers.  They were in correspondance with a number\n",
      "of other experimenters (Octave Chanute, Lillienthal, etc), they flew\n",
      "models, they had a wind tunnel.  In short, they were quite mainstream\n",
      "and were not regarded as odd or eccentric by the community.\n",
      "\n",
      "I suggest you read The Bishop's Boys or the biography by Harry Gates?\n",
      "Combs?  (I can never remember which it is--the guy that had the FBOs\n",
      "and owned Learjet for a while).  These are both in print and easily\n",
      "obtainable.  The Bishop's Boys is in trade paperback, even.\n",
      "\n",
      "Even better would be the multi-volume set of the Wrights' writings,\n",
      "but this is out of print, rare, and hideously expensive.\n",
      "\n",
      "\n",
      "\n",
      "--\n",
      "Mary Shafer  DoD #0362 KotFR NASA Dryden Flight Research Facility, Edwards, CA\n",
      "shafer@rigel.dfrf.nasa.gov                    Of course I don't speak for NASA\n",
      " \"A MiG at your six is better than no MiG at all.\"  Unknown US fighter pilot\n",
      "\n"
     ]
    }
   ],
   "source": [
    "print(simple_dataset.data[1])"
   ]
  },
  {
   "cell_type": "code",
   "execution_count": 7,
   "metadata": {},
   "outputs": [
    {
     "data": {
      "text/plain": [
       "array([1, 2, 1, ..., 2, 1, 1])"
      ]
     },
     "execution_count": 7,
     "metadata": {},
     "output_type": "execute_result"
    }
   ],
   "source": [
    "simple_dataset.target"
   ]
  },
  {
   "cell_type": "code",
   "execution_count": 8,
   "metadata": {},
   "outputs": [
    {
     "name": "stdout",
     "output_type": "stream",
     "text": [
      "1671\n"
     ]
    }
   ],
   "source": [
    "print(len(simple_dataset.data))"
   ]
  },
  {
   "cell_type": "markdown",
   "metadata": {},
   "source": [
    "## TF-IDF"
   ]
  },
  {
   "cell_type": "code",
   "execution_count": 9,
   "metadata": {},
   "outputs": [],
   "source": [
    "from scipy.spatial.distance import cdist,pdist"
   ]
  },
  {
   "cell_type": "code",
   "execution_count": 10,
   "metadata": {},
   "outputs": [],
   "source": [
    "from sklearn.feature_extraction.text import TfidfVectorizer\n",
    "\n",
    "vectorizer = TfidfVectorizer(min_df=3, max_df=0.8)"
   ]
  },
  {
   "cell_type": "code",
   "execution_count": 11,
   "metadata": {},
   "outputs": [],
   "source": [
    "matrix = vectorizer.fit_transform(simple_dataset.data)"
   ]
  },
  {
   "cell_type": "code",
   "execution_count": 12,
   "metadata": {},
   "outputs": [
    {
     "data": {
      "text/plain": [
       "(1671, 10906)"
      ]
     },
     "execution_count": 12,
     "metadata": {},
     "output_type": "execute_result"
    }
   ],
   "source": [
    "matrix.shape"
   ]
  },
  {
   "cell_type": "code",
   "execution_count": 13,
   "metadata": {},
   "outputs": [],
   "source": [
    "cos_dist = cdist(matrix[0:1].toarray(), matrix.toarray(), metric='cosine')"
   ]
  },
  {
   "cell_type": "code",
   "execution_count": 14,
   "metadata": {},
   "outputs": [
    {
     "data": {
      "text/plain": [
       "(1, 1671)"
      ]
     },
     "execution_count": 14,
     "metadata": {},
     "output_type": "execute_result"
    }
   ],
   "source": [
    "cos_dist.shape"
   ]
  },
  {
   "cell_type": "code",
   "execution_count": 15,
   "metadata": {},
   "outputs": [
    {
     "name": "stdout",
     "output_type": "stream",
     "text": [
      "1 0.0\n",
      "2 0.9554134603488925\n",
      "1 0.8960332985946793\n",
      "1 0.9235818083803129\n",
      "2 0.9502208026371527\n",
      "1 0.9504205761320622\n",
      "0 0.9482823094650407\n",
      "2 0.9656182873404292\n",
      "1 0.9658967834023467\n",
      "1 0.9134631457579911\n",
      "1 0.9208792325712348\n",
      "0 0.9389141127781679\n",
      "1 0.953706826162324\n",
      "1 0.9261097902070701\n",
      "0 0.9668589039543384\n",
      "2 0.948498237911466\n",
      "0 0.9362275414539003\n",
      "0 0.9707718904640827\n",
      "2 0.9423298274522862\n",
      "2 0.8874973213933234\n",
      "2 0.9440744892006223\n",
      "2 0.9816244364182471\n",
      "1 0.9533228081426027\n",
      "0 0.9030792511038874\n",
      "1 0.9164643547524615\n",
      "0 0.9461018114219676\n",
      "2 0.9637401682434228\n",
      "2 0.9291917318254523\n",
      "2 0.9631622182875208\n",
      "2 0.9592635758386217\n",
      "0 0.9356990947079464\n",
      "1 0.942806122746321\n",
      "2 0.9688847514492526\n",
      "0 0.9704651435697148\n",
      "1 0.9877287806932009\n",
      "2 0.9677848712178979\n",
      "2 0.9756826863988968\n",
      "1 0.8420722343988933\n",
      "1 0.8670330809586415\n",
      "1 0.9764326478442941\n",
      "1 0.9515896350357629\n",
      "2 0.9401378237973799\n",
      "0 0.9638737948458069\n",
      "2 0.9349148879644132\n",
      "0 0.8764658779375483\n",
      "2 0.990378071582209\n",
      "1 0.9594679708500332\n",
      "0 0.9568568629538152\n",
      "1 0.5639017444891237\n",
      "2 0.9096141375055543\n"
     ]
    }
   ],
   "source": [
    "for i in range(50):\n",
    "    print(simple_dataset.target[i],cos_dist[0][i])"
   ]
  },
  {
   "cell_type": "code",
   "execution_count": 16,
   "metadata": {},
   "outputs": [],
   "source": [
    "from sklearn.model_selection import train_test_split\n",
    "from sklearn.neighbors import KNeighborsClassifier\n",
    "X_train, X_test, y_train, y_test = train_test_split(\n",
    "                                    matrix,\n",
    "                                    simple_dataset.target, \n",
    "                                    test_size = 0.3, \n",
    "                                    random_state = 11)"
   ]
  },
  {
   "cell_type": "code",
   "execution_count": 17,
   "metadata": {},
   "outputs": [
    {
     "data": {
      "text/plain": [
       "KNeighborsClassifier(n_neighbors=3)"
      ]
     },
     "execution_count": 17,
     "metadata": {},
     "output_type": "execute_result"
    }
   ],
   "source": [
    "knn = KNeighborsClassifier(n_neighbors=3)\n",
    "knn.fit(X_train,y_train)"
   ]
  },
  {
   "cell_type": "code",
   "execution_count": 18,
   "metadata": {},
   "outputs": [],
   "source": [
    "predict = knn.predict(X_test)"
   ]
  },
  {
   "cell_type": "code",
   "execution_count": 19,
   "metadata": {},
   "outputs": [
    {
     "data": {
      "text/plain": [
       "0.950199203187251"
      ]
     },
     "execution_count": 19,
     "metadata": {},
     "output_type": "execute_result"
    }
   ],
   "source": [
    "from sklearn import metrics\n",
    "metrics.accuracy_score(y_test, predict)"
   ]
  },
  {
   "cell_type": "code",
   "execution_count": 20,
   "metadata": {},
   "outputs": [],
   "source": [
    "changes_min_df = [0 for _ in range(90)]\n",
    "for i in range(90):\n",
    "    vectorizer2 = TfidfVectorizer(min_df=(i * 10), max_df=0.8)\n",
    "    matrix2 = vectorizer2.fit_transform(simple_dataset.data)\n",
    "    X_train, X_test, y_train, y_test = train_test_split(\n",
    "                                        matrix2,\n",
    "                                        simple_dataset.target, \n",
    "                                        test_size = 0.3, \n",
    "                                        random_state = 11)\n",
    "    knn = KNeighborsClassifier(n_neighbors=3)\n",
    "    knn.fit(X_train,y_train)\n",
    "    changes_min_df[i] = metrics.accuracy_score(y_test, knn.predict(X_test))"
   ]
  },
  {
   "cell_type": "code",
   "execution_count": 21,
   "metadata": {},
   "outputs": [],
   "source": [
    "import matplotlib.pyplot as plt"
   ]
  },
  {
   "cell_type": "code",
   "execution_count": 22,
   "metadata": {},
   "outputs": [
    {
     "data": {
      "image/png": "[encoded data removed]",
      "text/plain": [
       "<Figure size 432x288 with 1 Axes>"
      ]
     },
     "metadata": {
      "needs_background": "light"
     },
     "output_type": "display_data"
    }
   ],
   "source": [
    "plt.plot(range(0, 900, 10), changes_min_df)\n",
    "plt.xlabel(\"min_df\")\n",
    "plt.ylabel(\"accuracy(min_df)\")\n",
    "plt.show()"
   ]
  },
  {
   "cell_type": "code",
   "execution_count": 30,
   "metadata": {},
   "outputs": [],
   "source": [
    "from sklearn.cluster import KMeans\n",
    "model = KMeans(n_clusters=3, random_state=1)"
   ]
  },
  {
   "cell_type": "code",
   "execution_count": 57,
   "metadata": {},
   "outputs": [
    {
     "data": {
      "text/plain": [
       "(1671, 8552)"
      ]
     },
     "execution_count": 57,
     "metadata": {},
     "output_type": "execute_result"
    }
   ],
   "source": [
    "vectorizer = TfidfVectorizer(min_df=4, max_df=0.4)\n",
    "matrix = vectorizer.fit_transform(simple_dataset.data)\n",
    "matrix.shape"
   ]
  },
  {
   "cell_type": "code",
   "execution_count": 58,
   "metadata": {},
   "outputs": [
    {
     "name": "stdout",
     "output_type": "stream",
     "text": [
      "[1 2 1 ... 2 1 1]\n",
      "[0 2 0 ... 2 0 0]\n"
     ]
    }
   ],
   "source": [
    "preds = model.fit_predict(matrix.toarray())\n",
    "print(simple_dataset.target)\n",
    "print(preds)"
   ]
  },
  {
   "cell_type": "code",
   "execution_count": 64,
   "metadata": {},
   "outputs": [
    {
     "name": "stdout",
     "output_type": "stream",
     "text": [
      "Попадание 54.22 %\n",
      "Космос 60.08 %\n",
      "Мотоциклы 6.7 %\n",
      "Атеизм 33.21 %\n"
     ]
    }
   ],
   "source": [
    "t0, t1, t2 = 0, 0, 0\n",
    "count = 0\n",
    "for i in range(len(simple_dataset.target)):\n",
    "    if preds[i] == simple_dataset.target[i]:\n",
    "        count += 1\n",
    "    match preds[i]:\n",
    "        case 0:\n",
    "            t0 += 1\n",
    "        case 1:\n",
    "            t1 += 1\n",
    "        case 2:\n",
    "            t2 += 1\n",
    "count /= len(simple_dataset.target)\n",
    "print(\"Попадание\", round(count * 100, 2), \"%\")\n",
    "print(\"Космос\", round(t0 / len(simple_dataset.target) * 100, 2), \"%\")\n",
    "print(\"Мотоциклы\", round(t1 / len(simple_dataset.target) * 100, 2), \"%\")\n",
    "print(\"Атеизм\", round(t2 / len(simple_dataset.target) * 100, 2), \"%\")"
   ]
  },
  {
   "cell_type": "code",
   "execution_count": null,
   "metadata": {},
   "outputs": [],
   "source": []
  }
 ],
 "metadata": {
  "kernelspec": {
   "display_name": "Python 3 (ipykernel)",
   "language": "python",
   "name": "python3"
  },
  "language_info": {
   "codemirror_mode": {
    "name": "ipython",
    "version": 3
   },
   "file_extension": ".py",
   "mimetype": "text/x-python",
   "name": "python",
   "nbconvert_exporter": "python",
   "pygments_lexer": "ipython3",
   "version": "3.10.2"
  }
 },
 "nbformat": 4,
 "nbformat_minor": 1
}
