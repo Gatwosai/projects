{
 "cells": [
  {
   "cell_type": "code",
   "execution_count": 22,
   "id": "5024ad01",
   "metadata": {},
   "outputs": [],
   "source": [
    "import matplotlib.pyplot as plt\n",
    "from sklearn import datasets\n",
    "from sklearn.neural_network import MLPClassifier\n",
    "import numpy as np"
   ]
  },
  {
   "cell_type": "code",
   "execution_count": 38,
   "id": "84d359be",
   "metadata": {},
   "outputs": [
    {
     "data": {
      "text/plain": [
       "(1797, 64)"
      ]
     },
     "execution_count": 38,
     "metadata": {},
     "output_type": "execute_result"
    }
   ],
   "source": [
    "digits = datasets.load_digits()\n",
    "data = digits.images.reshape(len(digits.images), -1)\n",
    "label = digits.target.reshape(len(digits.images, ))\n",
    "data.shape"
   ]
  },
  {
   "cell_type": "code",
   "execution_count": 26,
   "id": "e22e942d",
   "metadata": {},
   "outputs": [
    {
     "data": {
      "text/plain": [
       "(20, 8, 8, 3)"
      ]
     },
     "execution_count": 26,
     "metadata": {},
     "output_type": "execute_result"
    }
   ],
   "source": [
    "import matplotlib.image as mpimg\n",
    "path = \"/home/gasai/github/projects/ml_perseptron\"\n",
    "image = []\n",
    "for i in range(20):\n",
    "    image.append(mpimg.imread(path + \"/\" + str(i + 1) + \"percent.png\"))\n",
    "image = np.array(image)\n",
    "image.shape"
   ]
  },
  {
   "cell_type": "code",
   "execution_count": 34,
   "id": "0347068c",
   "metadata": {},
   "outputs": [
    {
     "data": {
      "image/png": "[encoded data removed]",
      "text/plain": [
       "<Figure size 432x288 with 10 Axes>"
      ]
     },
     "metadata": {
      "needs_background": "light"
     },
     "output_type": "display_data"
    }
   ],
   "source": [
    "for i in range(10):\n",
    "    plt.subplot(2, 5, i + 1)\n",
    "    plt.axis(\"off\")\n",
    "    plt.imshow(image[i], cmap=plt.cm.gray_r, interpolation=\"nearest\")"
   ]
  },
  {
   "cell_type": "code",
   "execution_count": 72,
   "id": "2c6fadf3",
   "metadata": {},
   "outputs": [
    {
     "data": {
      "text/plain": [
       "(20, 8, 8)"
      ]
     },
     "execution_count": 72,
     "metadata": {},
     "output_type": "execute_result"
    }
   ],
   "source": [
    "image_gray = [(16 - img[:, :, 0] * 16).astype(int) for img in image]\n",
    "image_gray = np.array(image_gray)\n",
    "image_gray.shape"
   ]
  },
  {
   "cell_type": "code",
   "execution_count": 75,
   "id": "20785ec5",
   "metadata": {},
   "outputs": [],
   "source": [
    "for i in range(20):\n",
    "    data = np.append(data, image_gray[i].reshape(1, 64), axis=0)"
   ]
  },
  {
   "cell_type": "code",
   "execution_count": 76,
   "id": "d3c8f1e4",
   "metadata": {},
   "outputs": [
    {
     "data": {
      "text/plain": [
       "(1817, 64)"
      ]
     },
     "execution_count": 76,
     "metadata": {},
     "output_type": "execute_result"
    }
   ],
   "source": [
    "data.shape"
   ]
  },
  {
   "cell_type": "code",
   "execution_count": 88,
   "id": "92c6d984",
   "metadata": {},
   "outputs": [
    {
     "data": {
      "text/plain": [
       "(1817,)"
      ]
     },
     "execution_count": 88,
     "metadata": {},
     "output_type": "execute_result"
    }
   ],
   "source": [
    "# 25 hex - код %\n",
    "percents = np.array([0x25 for i in range(20)])\n",
    "label = np.append(label, percents) \n",
    "label.shape"
   ]
  },
  {
   "cell_type": "code",
   "execution_count": 89,
   "id": "bfd31005",
   "metadata": {},
   "outputs": [],
   "source": [
    "from sklearn.model_selection import train_test_split\n",
    "X_train, X_test, y_train, y_test = train_test_split(\n",
    "    data, label, test_size=0.3, random_state=1)"
   ]
  },
  {
   "cell_type": "code",
   "execution_count": 90,
   "id": "80eebef1",
   "metadata": {},
   "outputs": [
    {
     "name": "stdout",
     "output_type": "stream",
     "text": [
      "(1271, 64) (546, 64) (1271,) (546,)\n"
     ]
    }
   ],
   "source": [
    "print(X_train.shape, X_test.shape, y_train.shape, y_test.shape)"
   ]
  },
  {
   "cell_type": "code",
   "execution_count": 96,
   "id": "3bfadb15",
   "metadata": {},
   "outputs": [],
   "source": [
    "mlp = MLPClassifier(hidden_layer_sizes=(50), max_iter=100, alpha=1e-4,solver='sgd', \n",
    "                    verbose=10, tol=1e-4, random_state=1,\n",
    "                    learning_rate_init=.03)"
   ]
  },
  {
   "cell_type": "code",
   "execution_count": 97,
   "id": "6d7acf66",
   "metadata": {},
   "outputs": [
    {
     "name": "stdout",
     "output_type": "stream",
     "text": [
      "Iteration 1, loss = 8.04089963\n",
      "Iteration 2, loss = 2.04969616\n",
      "Iteration 3, loss = 1.75141382\n",
      "Iteration 4, loss = 1.47903017\n",
      "Iteration 5, loss = 1.22287062\n",
      "Iteration 6, loss = 1.16748940\n",
      "Iteration 7, loss = 0.93678554\n",
      "Iteration 8, loss = 0.76950616\n",
      "Iteration 9, loss = 0.66456481\n",
      "Iteration 10, loss = 0.56654937\n",
      "Iteration 11, loss = 0.47682325\n",
      "Iteration 12, loss = 0.42105540\n",
      "Iteration 13, loss = 0.42563666\n",
      "Iteration 14, loss = 0.33577493\n",
      "Iteration 15, loss = 0.29785589\n",
      "Iteration 16, loss = 0.25017534\n",
      "Iteration 17, loss = 0.23565902\n",
      "Iteration 18, loss = 0.20389219\n",
      "Iteration 19, loss = 0.19977567\n",
      "Iteration 20, loss = 0.19537403\n",
      "Iteration 21, loss = 0.18476565\n",
      "Iteration 22, loss = 0.15953053\n",
      "Iteration 23, loss = 0.16567605\n",
      "Iteration 24, loss = 0.14895597\n",
      "Iteration 25, loss = 0.15583402\n",
      "Iteration 26, loss = 0.13562212\n",
      "Iteration 27, loss = 0.12273472\n",
      "Iteration 28, loss = 0.11064725\n",
      "Iteration 29, loss = 0.11424185\n",
      "Iteration 30, loss = 0.11157872\n",
      "Iteration 31, loss = 0.09668895\n",
      "Iteration 32, loss = 0.11362746\n",
      "Iteration 33, loss = 0.08081471\n",
      "Iteration 34, loss = 0.07761735\n",
      "Iteration 35, loss = 0.06782678\n",
      "Iteration 36, loss = 0.07375832\n",
      "Iteration 37, loss = 0.06597937\n",
      "Iteration 38, loss = 0.06239352\n",
      "Iteration 39, loss = 0.05781308\n",
      "Iteration 40, loss = 0.05206919\n",
      "Iteration 41, loss = 0.04594105\n",
      "Iteration 42, loss = 0.04387641\n",
      "Iteration 43, loss = 0.04037225\n",
      "Iteration 44, loss = 0.04467340\n",
      "Iteration 45, loss = 0.04679345\n",
      "Iteration 46, loss = 0.03784457\n",
      "Iteration 47, loss = 0.03545978\n",
      "Iteration 48, loss = 0.03361916\n",
      "Iteration 49, loss = 0.03284051\n",
      "Iteration 50, loss = 0.03036699\n",
      "Iteration 51, loss = 0.02851322\n",
      "Iteration 52, loss = 0.03829812\n",
      "Iteration 53, loss = 0.03277810\n",
      "Iteration 54, loss = 0.02805726\n",
      "Iteration 55, loss = 0.02457080\n",
      "Iteration 56, loss = 0.02710544\n",
      "Iteration 57, loss = 0.02479957\n",
      "Iteration 58, loss = 0.02223971\n",
      "Iteration 59, loss = 0.01984450\n",
      "Iteration 60, loss = 0.02016581\n",
      "Iteration 61, loss = 0.01880574\n",
      "Iteration 62, loss = 0.01827924\n",
      "Iteration 63, loss = 0.01960943\n",
      "Iteration 64, loss = 0.02154000\n",
      "Iteration 65, loss = 0.01720217\n",
      "Iteration 66, loss = 0.01570731\n",
      "Iteration 67, loss = 0.01604311\n",
      "Iteration 68, loss = 0.01464731\n",
      "Iteration 69, loss = 0.01407115\n",
      "Iteration 70, loss = 0.01338592\n",
      "Iteration 71, loss = 0.01347658\n",
      "Iteration 72, loss = 0.01303223\n",
      "Iteration 73, loss = 0.01281301\n",
      "Iteration 74, loss = 0.01385913\n",
      "Iteration 75, loss = 0.01216177\n",
      "Iteration 76, loss = 0.01167822\n",
      "Iteration 77, loss = 0.01208010\n",
      "Iteration 78, loss = 0.01158985\n",
      "Iteration 79, loss = 0.01127714\n",
      "Iteration 80, loss = 0.01192951\n",
      "Iteration 81, loss = 0.01092622\n",
      "Iteration 82, loss = 0.01056361\n",
      "Iteration 83, loss = 0.01054261\n",
      "Iteration 84, loss = 0.01012831\n",
      "Iteration 85, loss = 0.01041251\n",
      "Iteration 86, loss = 0.00991344\n",
      "Iteration 87, loss = 0.00978063\n",
      "Iteration 88, loss = 0.00942244\n",
      "Iteration 89, loss = 0.00934400\n",
      "Iteration 90, loss = 0.00942600\n",
      "Iteration 91, loss = 0.00924467\n",
      "Iteration 92, loss = 0.00903760\n",
      "Iteration 93, loss = 0.00892110\n",
      "Iteration 94, loss = 0.00883709\n",
      "Iteration 95, loss = 0.00869728\n",
      "Iteration 96, loss = 0.00891130\n",
      "Iteration 97, loss = 0.00838003\n",
      "Iteration 98, loss = 0.00864725\n",
      "Iteration 99, loss = 0.00858068\n",
      "Iteration 100, loss = 0.00846840\n",
      "Training set score: 0.998426\n",
      "Test set score: 0.926740\n"
     ]
    },
    {
     "name": "stderr",
     "output_type": "stream",
     "text": [
      "/home/gasai/.local/lib/python3.10/site-packages/sklearn/neural_network/_multilayer_perceptron.py:692: ConvergenceWarning: Stochastic Optimizer: Maximum iterations (100) reached and the optimization hasn't converged yet.\n",
      "  warnings.warn(\n"
     ]
    }
   ],
   "source": [
    "mlp.fit(X_train, y_train)\n",
    "print(\"Training set score: %f\" % mlp.score(X_train, y_train))\n",
    "print(\"Test set score: %f\" % mlp.score(X_test, y_test))"
   ]
  },
  {
   "cell_type": "code",
   "execution_count": 99,
   "id": "4a4ef64e",
   "metadata": {},
   "outputs": [
    {
     "data": {
      "text/plain": [
       "[array([[-0.03806794,  0.09459415, -0.19320274, ..., -0.09323334,\n",
       "         -0.09736263, -0.16973236],\n",
       "        [-0.21999366,  0.02852764,  0.02126174, ..., -0.01411945,\n",
       "         -0.23445494,  0.05247648],\n",
       "        [-0.07210999, -0.28486504,  0.12070496, ..., -0.57670993,\n",
       "         -0.1553996 , -0.23834517],\n",
       "        ...,\n",
       "        [-0.26135647, -0.17568801, -0.16787208, ..., -0.59877714,\n",
       "          0.14829952, -0.02970088],\n",
       "        [-0.15721189, -0.30936718, -0.28825471, ..., -0.25595998,\n",
       "         -0.05366006, -0.06276573],\n",
       "        [-0.17319877, -0.03407154,  0.30086589, ...,  0.13875508,\n",
       "          0.00119073,  0.17050748]]),\n",
       " array([[ 8.55634894e-02,  1.20529682e-01,  2.47625751e-01,\n",
       "          1.77371550e-01,  1.13795399e-01,  2.95128640e-02,\n",
       "         -1.41691199e-01,  9.84235417e-02,  1.73962745e-01,\n",
       "          2.55702051e-01,  2.58586788e-01],\n",
       "        [ 3.50129731e-01, -1.42646868e-01, -6.85928053e-02,\n",
       "         -1.07243326e-01,  1.85422044e-01, -2.32558459e-01,\n",
       "          4.15480818e-01,  1.09696365e-01, -5.50212493e-02,\n",
       "         -2.19129716e-01, -2.41188264e-01],\n",
       "        [-8.03953571e-01,  4.62436053e-01, -2.24703798e-01,\n",
       "         -4.31825201e-02,  5.62406517e-01, -3.90390057e-01,\n",
       "         -3.38996521e-01,  8.39774461e-01, -6.73212130e-01,\n",
       "         -2.79361308e-01,  5.18377239e-01],\n",
       "        [ 5.12154843e-01,  6.63216949e-01, -8.38680200e-01,\n",
       "         -2.05278061e-01,  7.51208291e-01,  3.72831122e-02,\n",
       "          8.17315545e-01, -1.89319125e-01,  2.16599213e-01,\n",
       "         -8.61860239e-01, -1.73334371e-01],\n",
       "        [ 2.44084652e-01,  1.11057141e-01, -3.88295060e-02,\n",
       "         -4.51633885e-01,  1.60690520e-01, -4.00380835e-03,\n",
       "         -4.51209974e-02, -1.15611643e-01,  7.96347499e-01,\n",
       "         -7.02051377e-01, -1.91557737e-01],\n",
       "        [-8.29736140e-02, -7.05519276e-02, -4.57574936e-02,\n",
       "          1.83728329e-01,  6.21761048e-02, -4.18622827e-01,\n",
       "          2.03873022e-01,  2.29676691e-01, -6.25938031e-02,\n",
       "          1.68856666e-02, -1.51898451e-01],\n",
       "        [ 3.41024460e-01, -4.35596507e-02, -1.54691993e-01,\n",
       "          2.86393486e-01, -1.06502009e-01, -1.17658341e+00,\n",
       "          8.82203108e-02,  1.58605643e-01, -8.17043646e-03,\n",
       "          3.51480369e-01, -2.50096726e-02],\n",
       "        [ 2.86882040e-01,  2.66778643e-01, -1.33529749e-01,\n",
       "          1.83437374e-01,  2.53382611e-01, -2.42582323e-01,\n",
       "         -1.36842197e-02,  1.53353149e-01, -1.06959332e-01,\n",
       "         -4.78051174e-02,  2.77304591e-01],\n",
       "        [ 2.49503079e-01, -1.01681226e-01, -6.61115548e-01,\n",
       "          7.92164100e-02,  2.56978880e-01, -1.77945924e-01,\n",
       "          4.13905351e-01,  1.02007228e-01, -2.75791391e-01,\n",
       "          3.73748135e-01,  2.00812491e-01],\n",
       "        [-7.28257886e-01,  4.87370105e-01,  1.25772570e+00,\n",
       "          6.24700903e-01, -5.80416263e-01, -2.41135348e-01,\n",
       "          2.20625671e-01, -2.87964338e-01,  5.94360678e-01,\n",
       "         -3.03571090e-01, -2.64005662e-02],\n",
       "        [-1.43876851e-01, -2.64474753e-01, -1.88691909e-01,\n",
       "          1.28156724e-01,  2.61039133e-01,  4.23374877e-02,\n",
       "         -2.05851323e-01, -2.38635380e-01,  1.45357197e-01,\n",
       "         -9.48763516e-02, -1.43174475e-01],\n",
       "        [-1.62936386e-01,  3.25924211e-01, -3.19988592e-01,\n",
       "         -3.04329961e-01, -3.98993917e-01,  6.59813961e-01,\n",
       "          2.48072157e-01,  2.62812701e-01,  3.51628879e-01,\n",
       "         -9.71716966e-01,  7.33758753e-03],\n",
       "        [ 9.61014383e-01,  7.03603738e-01, -1.08684730e+00,\n",
       "         -1.31642512e+00,  3.29460152e-01,  1.38744064e-01,\n",
       "          6.17467777e-01, -8.62904642e-02,  6.63970756e-01,\n",
       "         -1.56987484e+00,  2.46221396e-01],\n",
       "        [-3.87557760e-02,  4.59392324e-01, -1.35823941e+00,\n",
       "          8.58625725e-01,  6.28251032e-03, -5.44709749e-01,\n",
       "          4.41161226e-01,  4.29692376e-01, -1.60927159e-01,\n",
       "          4.89332537e-01, -1.33733624e-01],\n",
       "        [ 6.14966679e-02,  1.38806809e-01,  1.31962139e-01,\n",
       "         -1.34965270e-01,  6.41371503e-02, -1.24099725e-01,\n",
       "          3.31999289e-01,  1.90991887e-01, -1.26197173e-02,\n",
       "          2.12466444e-01,  1.53992865e-01],\n",
       "        [ 2.64502158e-01, -1.87201436e-01, -1.53656072e-01,\n",
       "         -2.58556115e-01, -1.24339543e-01, -4.66343968e-02,\n",
       "          5.98626684e-02, -2.57828866e-02,  1.22689828e-01,\n",
       "         -1.01374227e-01, -2.06606150e-01],\n",
       "        [-7.77986471e-02, -5.79597242e-02, -9.33035865e-02,\n",
       "          1.95288804e-01, -1.41186789e-01,  2.43692236e-02,\n",
       "         -1.61476845e-01, -8.84960403e-02, -7.19769079e-02,\n",
       "         -3.26211381e-02, -5.59714318e-02],\n",
       "        [-1.45898396e-01,  1.24369845e-01, -2.03666704e-01,\n",
       "         -9.68399598e-02, -1.74521348e-01, -1.90050466e-02,\n",
       "          2.16115139e-01, -1.61685960e-01,  4.90278521e-02,\n",
       "         -1.95350839e-01,  1.98449502e-01],\n",
       "        [ 9.78112426e-01,  2.00408892e-01,  3.90334784e-02,\n",
       "         -1.20424008e+00, -1.64637224e-01,  2.69214633e-01,\n",
       "          4.00905965e-01, -5.52399898e-02,  3.43022237e-01,\n",
       "         -9.77567539e-01,  2.05211472e-01],\n",
       "        [ 6.66240608e-02,  1.00517661e-01, -2.30664090e-01,\n",
       "         -2.25253075e-01, -5.24440640e-02,  5.16387969e-02,\n",
       "         -6.23928737e-02, -6.99018620e-02, -1.22873377e-01,\n",
       "          2.69625197e-01, -2.78974107e-01],\n",
       "        [ 2.06300488e-01,  2.97643841e-01, -1.45960598e-01,\n",
       "          2.43063111e-01, -1.26244036e-01,  1.87510263e-01,\n",
       "         -2.53057924e-02,  6.04105504e-02, -1.61581579e-01,\n",
       "          1.17434782e-01, -2.20375687e-01],\n",
       "        [ 1.18931436e+00,  3.85495243e-01, -2.77576710e+00,\n",
       "          7.16938574e-01,  2.60887799e-01, -6.75420174e-01,\n",
       "         -1.64985639e-01,  8.04340400e-01,  2.92409566e-01,\n",
       "          3.53687831e-01,  1.78741581e-02],\n",
       "        [ 4.79602112e-01, -9.01554497e-02,  2.30860713e-02,\n",
       "         -1.40669602e-01,  4.68958647e-01, -9.02989599e-01,\n",
       "          4.32197994e-01,  1.50534676e-01, -9.82913180e-02,\n",
       "          5.31201183e-02,  4.54051947e-02],\n",
       "        [ 5.90681288e-01,  3.99781426e-01, -1.96855324e+00,\n",
       "          1.51179754e-01,  2.27732027e-01, -5.86263731e-01,\n",
       "          6.65883530e-02,  3.68469435e-01,  3.02306636e-02,\n",
       "          2.90353045e-02, -1.21581403e-01],\n",
       "        [ 4.36224687e-02, -3.13773943e-01,  2.05306245e-02,\n",
       "          3.41893080e-01,  1.93412851e-01, -3.97776795e-01,\n",
       "         -1.40212185e-01,  1.72088808e-01, -9.76868894e-02,\n",
       "          4.20761985e-03, -2.56740806e-01],\n",
       "        [ 1.39876916e-01,  2.05899491e-01, -1.05955399e-01,\n",
       "         -2.32171461e-02, -3.32183410e-01, -2.36248087e-01,\n",
       "          2.88299649e-01, -3.70418290e-03,  2.24600202e-01,\n",
       "          2.15449110e-01,  4.45107725e-02],\n",
       "        [ 2.51702076e-01, -6.53558222e-02, -6.97576106e-01,\n",
       "         -6.47721281e-02,  3.20395328e-07, -3.66948377e-01,\n",
       "          4.86181129e-01,  1.60202045e-01, -2.08544588e-01,\n",
       "          2.62186734e-02,  2.28135372e-01],\n",
       "        [ 1.84245785e-01, -2.89372979e-01,  2.37848254e-01,\n",
       "          5.51294645e-02, -2.66397912e-02,  1.09024249e-01,\n",
       "         -2.88874325e-01, -1.06424502e-01, -2.58363812e-01,\n",
       "          1.15161638e-01, -6.39688790e-02],\n",
       "        [ 2.33884517e-01, -1.71058542e-01,  8.05963433e-02,\n",
       "         -1.59018470e-01,  3.21690485e-02, -4.80208390e-01,\n",
       "          2.86398741e-01,  9.05184881e-02, -6.30805849e-02,\n",
       "         -8.40818707e-02, -1.57497809e-01],\n",
       "        [-1.57760944e-01,  3.81925154e-01, -2.03598231e+00,\n",
       "          6.02212997e-01, -1.04262811e-02, -8.70845905e-01,\n",
       "          6.94527385e-02,  5.13961992e-01,  6.71158077e-01,\n",
       "          8.51968552e-03,  1.92873476e-01],\n",
       "        [ 6.34790847e-03, -2.99517059e-01, -8.34300924e-02,\n",
       "          4.14823208e-01,  9.46125739e-02, -5.59122816e-01,\n",
       "          2.43102928e-01,  1.90606068e-01, -1.53556220e-01,\n",
       "          3.45577393e-01,  1.27314765e-01],\n",
       "        [-1.12933937e-03,  2.97551750e-01,  8.73121899e-02,\n",
       "         -7.95882142e-01, -1.48913678e-01,  4.66849338e-01,\n",
       "          2.10484252e-01,  2.41298325e-01,  3.10397100e-01,\n",
       "         -1.02201442e+00, -4.85512285e-02],\n",
       "        [ 5.23825850e-02, -1.46078416e-01, -1.52941696e-01,\n",
       "          8.77067769e-02, -1.02019581e-01, -5.22479389e-01,\n",
       "         -1.02177160e-01,  4.44464506e-01,  2.45351279e-01,\n",
       "          1.59283419e-01, -5.54380723e-02],\n",
       "        [-3.92000685e-01,  7.20913401e-01,  6.59905623e-02,\n",
       "         -3.76179207e-02,  7.42080995e-02, -6.92271561e-02,\n",
       "         -2.26542371e-01, -3.74686890e-01, -7.64984276e-01,\n",
       "         -2.29819574e-03, -1.49048063e-01],\n",
       "        [ 9.38607194e-01,  2.33128521e-01,  3.84595506e-01,\n",
       "         -7.27136952e-01,  4.65309705e-02, -9.46991489e-01,\n",
       "          8.81398085e-01, -2.60149155e-01,  5.49165633e-01,\n",
       "         -6.95688263e-01,  3.74606088e-01],\n",
       "        [ 7.72787581e-01, -1.48133822e-02, -2.19971889e+00,\n",
       "          7.26131716e-01, -3.25281013e-01, -1.85656202e-01,\n",
       "          4.44903404e-01,  4.33120023e-01,  1.49422799e-01,\n",
       "          3.13205079e-01, -1.36229929e-01],\n",
       "        [-6.55659865e-02, -1.23116414e-03, -2.55521379e-01,\n",
       "          2.70224893e-01,  2.86035567e-02, -1.04958932e+00,\n",
       "          3.53881324e-01,  5.99100700e-01, -2.26110943e-01,\n",
       "         -1.13309589e-02,  2.32184514e-01],\n",
       "        [ 6.42964511e-01, -4.96396381e-01, -4.67204199e-01,\n",
       "          1.46764029e-01, -1.91714256e-01, -4.47780991e-01,\n",
       "         -5.31763381e-01, -3.16163896e-02,  4.95820695e-01,\n",
       "          7.49656391e-01, -4.61067800e-01],\n",
       "        [-3.55042231e-01, -5.05766677e-01, -3.26970648e-01,\n",
       "          4.52930823e-01, -7.38563024e-01,  1.22611660e+00,\n",
       "         -6.12137174e-03,  6.36903842e-02, -1.86251937e-01,\n",
       "          3.50055628e-01, -2.36821766e-01],\n",
       "        [ 1.85051584e-01, -8.18385851e-02, -5.88286031e-01,\n",
       "          4.38631589e-01,  1.08491358e-01, -1.21238786e+00,\n",
       "          4.56815034e-02,  2.14146812e-01, -1.85821044e-01,\n",
       "          4.19692484e-01, -7.84742640e-02],\n",
       "        [-1.30852539e-01,  1.02098905e-01,  2.66483768e-01,\n",
       "          1.53158708e-01, -2.22432024e-02, -2.02849855e-01,\n",
       "          1.89449203e-02,  4.11194455e-02,  4.70350025e-02,\n",
       "         -1.39562842e-01, -2.33409259e-01],\n",
       "        [ 4.08143728e-01,  9.57275848e-02, -1.52149574e-01,\n",
       "          6.37843664e-02,  8.55333781e-02, -7.34600936e-01,\n",
       "          1.40308167e-01,  4.69141020e-01, -1.24166717e-01,\n",
       "         -1.28036957e-01, -2.95446085e-02],\n",
       "        [ 1.70516490e-01,  5.10918659e-01, -2.21902365e+00,\n",
       "          2.27642443e-01, -2.80596688e-01, -1.00851977e-01,\n",
       "          3.00657234e-01,  1.67336192e-01,  8.53020370e-01,\n",
       "         -2.02456059e-01,  1.21375348e-02],\n",
       "        [-2.50310165e-01,  2.39883518e-01,  3.00123966e-01,\n",
       "         -8.77907273e-02, -9.88610026e-02,  6.60086131e-02,\n",
       "          1.20674188e-01,  9.19080139e-02,  1.91831210e-01,\n",
       "         -2.69170678e-01, -1.12315017e-01],\n",
       "        [ 3.29193378e-03,  2.11131554e-01,  3.83986962e-02,\n",
       "         -1.55132488e-01,  2.52524795e-01, -3.89885579e-01,\n",
       "          4.12169790e-01,  3.24238078e-01, -3.35932965e-02,\n",
       "          2.41111809e-01, -1.72848440e-01],\n",
       "        [ 3.17611425e-02, -3.05218284e-02, -1.06431837e-01,\n",
       "         -8.59856298e-02,  3.51954840e-01, -6.63985733e-01,\n",
       "          5.46528903e-02, -3.64069897e-02,  1.60011323e-01,\n",
       "         -1.02278360e-01, -2.72598683e-02],\n",
       "        [ 1.30087294e-02, -5.83199093e-01, -2.38498243e-01,\n",
       "         -2.20598550e-01,  1.19273807e-02, -1.05519519e-01,\n",
       "          3.63675953e-01, -4.28157847e-02,  1.35188598e-01,\n",
       "         -1.45739677e-01,  6.07486401e-01],\n",
       "        [ 8.98808042e-01,  4.96837131e-01, -1.36741728e+00,\n",
       "         -1.02947765e+00,  3.52302837e-01,  1.20745896e-01,\n",
       "          6.06711806e-01, -7.15255155e-03,  1.00805939e+00,\n",
       "         -1.41193927e+00,  3.02340808e-01],\n",
       "        [ 6.17561368e-02,  2.58873498e-02, -5.40752499e-01,\n",
       "          8.27014503e-01,  3.48335824e-01, -8.31877653e-01,\n",
       "          5.96099524e-02,  4.67551351e-02,  1.45816916e-01,\n",
       "          2.95586673e-01,  6.86325972e-02],\n",
       "        [-1.00274343e-01,  2.63349888e-02, -2.09509651e-01,\n",
       "          7.80435343e-02, -2.30391684e-01,  1.93129065e-01,\n",
       "         -1.75149942e-01, -1.01583447e-01,  2.05606327e-01,\n",
       "          2.66361165e-01,  2.10861789e-01]])]"
      ]
     },
     "execution_count": 99,
     "metadata": {},
     "output_type": "execute_result"
    }
   ],
   "source": [
    "mlp.coefs_"
   ]
  },
  {
   "cell_type": "code",
   "execution_count": 101,
   "id": "9660d0ae",
   "metadata": {},
   "outputs": [
    {
     "data": {
      "image/png": "[encoded data removed]",
      "text/plain": [
       "<Figure size 432x288 with 50 Axes>"
      ]
     },
     "metadata": {},
     "output_type": "display_data"
    }
   ],
   "source": [
    "fig, axes = plt.subplots(5,10)\n",
    "vmin, vmax = mlp.coefs_[0].min(), mlp.coefs_[0].max()\n",
    "for coef, ax in zip(mlp.coefs_[0].T, axes.ravel()):\n",
    "    ax.matshow(coef.reshape(8,8), cmap=plt.cm.gray, vmin=.5 * vmin, vmax=.5 * vmax)\n",
    "    ax.set_xticks(())\n",
    "    ax.set_yticks(())\n",
    "plt.show()"
   ]
  },
  {
   "cell_type": "code",
   "execution_count": 121,
   "id": "b70e7778",
   "metadata": {},
   "outputs": [
    {
     "data": {
      "text/plain": [
       "<matplotlib.image.AxesImage at 0x7f7e44590e20>"
      ]
     },
     "execution_count": 121,
     "metadata": {},
     "output_type": "execute_result"
    },
    {
     "data": {
      "image/png": "[encoded data removed]",
      "text/plain": [
       "<Figure size 432x288 with 1 Axes>"
      ]
     },
     "metadata": {
      "needs_background": "light"
     },
     "output_type": "display_data"
    }
   ],
   "source": [
    "image = mpimg.imread(\n",
    "    \"/home/gasai/github/projects/ml_perseptron/test_percent.png\")\n",
    "plt.imshow(image, cmap=plt.get_cmap(\"gray\"))"
   ]
  },
  {
   "cell_type": "code",
   "execution_count": 122,
   "id": "7f5e1f2d",
   "metadata": {},
   "outputs": [
    {
     "data": {
      "text/plain": [
       "(8, 8)"
      ]
     },
     "execution_count": 122,
     "metadata": {},
     "output_type": "execute_result"
    }
   ],
   "source": [
    "image_gray = (16 - image[:, :, 0] * 16).astype(int)\n",
    "image_gray.shape"
   ]
  },
  {
   "cell_type": "code",
   "execution_count": 123,
   "id": "f5dd9762",
   "metadata": {},
   "outputs": [
    {
     "name": "stdout",
     "output_type": "stream",
     "text": [
      "Это символ - %\n"
     ]
    }
   ],
   "source": [
    "prediction = mlp.predict(image_gray.reshape(1, 64))\n",
    "print(\"Это символ - \" + chr(prediction[0]))"
   ]
  },
  {
   "cell_type": "code",
   "execution_count": 106,
   "id": "2b0b8cf8",
   "metadata": {},
   "outputs": [
    {
     "data": {
      "text/plain": [
       "<matplotlib.image.AxesImage at 0x7f7e41e66c50>"
      ]
     },
     "execution_count": 106,
     "metadata": {},
     "output_type": "execute_result"
    },
    {
     "data": {
      "image/png": "[encoded data removed]",
      "text/plain": [
       "<Figure size 432x288 with 1 Axes>"
      ]
     },
     "metadata": {
      "needs_background": "light"
     },
     "output_type": "display_data"
    }
   ],
   "source": [
    "image = mpimg.imread(\n",
    "    \"/home/gasai/github/projects/ml_perseptron/test_2.png\")\n",
    "plt.imshow(image, cmap=plt.get_cmap(\"gray\"))\n"
   ]
  },
  {
   "cell_type": "code",
   "execution_count": 107,
   "id": "9f13087c",
   "metadata": {},
   "outputs": [
    {
     "name": "stdout",
     "output_type": "stream",
     "text": [
      "Это символ - 2\n"
     ]
    }
   ],
   "source": [
    "image_gray = (16 - image[:, :, 0] * 16).astype(int)\n",
    "prediction = mlp.predict(image_gray.reshape(1, 64))\n",
    "print(\"Это символ - \" + str(prediction[0]))"
   ]
  }
 ],
 "metadata": {
  "kernelspec": {
   "display_name": "Python 3 (ipykernel)",
   "language": "python",
   "name": "python3"
  },
  "language_info": {
   "codemirror_mode": {
    "name": "ipython",
    "version": 3
   },
   "file_extension": ".py",
   "mimetype": "text/x-python",
   "name": "python",
   "nbconvert_exporter": "python",
   "pygments_lexer": "ipython3",
   "version": "3.10.2"
  }
 },
 "nbformat": 4,
 "nbformat_minor": 5
}
