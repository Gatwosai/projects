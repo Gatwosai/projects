{
 "cells": [
  {
   "cell_type": "code",
   "execution_count": 1,
   "id": "5024ad01",
   "metadata": {},
   "outputs": [],
   "source": [
    "import matplotlib.pyplot as plt\n",
    "from sklearn import datasets\n",
    "from sklearn.neural_network import MLPClassifier\n",
    "import numpy as np"
   ]
  },
  {
   "cell_type": "code",
   "execution_count": 2,
   "id": "84d359be",
   "metadata": {},
   "outputs": [
    {
     "data": {
      "text/plain": [
       "(1797, 64)"
      ]
     },
     "execution_count": 2,
     "metadata": {},
     "output_type": "execute_result"
    }
   ],
   "source": [
    "digits = datasets.load_digits()\n",
    "data = digits.images.reshape(len(digits.images), -1)\n",
    "label = digits.target.reshape(len(digits.images, ))\n",
    "data.shape"
   ]
  },
  {
   "cell_type": "code",
   "execution_count": 3,
   "id": "e22e942d",
   "metadata": {},
   "outputs": [
    {
     "data": {
      "text/plain": [
       "(20, 8, 8, 3)"
      ]
     },
     "execution_count": 3,
     "metadata": {},
     "output_type": "execute_result"
    }
   ],
   "source": [
    "import matplotlib.image as mpimg\n",
    "path = \"/home/gasai/github/projects/ml_perseptron\"\n",
    "image = []\n",
    "for i in range(20):\n",
    "    image.append(mpimg.imread(path + \"/\" + str(i + 1) + \"percent.png\"))\n",
    "image = np.array(image)\n",
    "image.shape"
   ]
  },
  {
   "cell_type": "code",
   "execution_count": 4,
   "id": "0347068c",
   "metadata": {},
   "outputs": [
    {
     "data": {
      "image/png": "[encoded data removed]",
      "text/plain": [
       "<Figure size 432x288 with 10 Axes>"
      ]
     },
     "metadata": {
      "needs_background": "light"
     },
     "output_type": "display_data"
    }
   ],
   "source": [
    "for i in range(10):\n",
    "    plt.subplot(2, 5, i + 1)\n",
    "    plt.axis(\"off\")\n",
    "    plt.imshow(image[i], cmap=plt.cm.gray_r, interpolation=\"nearest\")"
   ]
  },
  {
   "cell_type": "code",
   "execution_count": 5,
   "id": "2c6fadf3",
   "metadata": {},
   "outputs": [
    {
     "data": {
      "text/plain": [
       "(20, 8, 8)"
      ]
     },
     "execution_count": 5,
     "metadata": {},
     "output_type": "execute_result"
    }
   ],
   "source": [
    "image_gray = [(16 - img[:, :, 0] * 16).astype(int) for img in image]\n",
    "image_gray = np.array(image_gray)\n",
    "image_gray.shape"
   ]
  },
  {
   "cell_type": "code",
   "execution_count": 6,
   "id": "20785ec5",
   "metadata": {},
   "outputs": [],
   "source": [
    "for i in range(20):\n",
    "    data = np.append(data, image_gray[i].reshape(1, 64), axis=0)"
   ]
  },
  {
   "cell_type": "code",
   "execution_count": 7,
   "id": "d3c8f1e4",
   "metadata": {},
   "outputs": [
    {
     "data": {
      "text/plain": [
       "(1817, 64)"
      ]
     },
     "execution_count": 7,
     "metadata": {},
     "output_type": "execute_result"
    }
   ],
   "source": [
    "data.shape"
   ]
  },
  {
   "cell_type": "code",
   "execution_count": 8,
   "id": "92c6d984",
   "metadata": {},
   "outputs": [
    {
     "data": {
      "text/plain": [
       "(1817,)"
      ]
     },
     "execution_count": 8,
     "metadata": {},
     "output_type": "execute_result"
    }
   ],
   "source": [
    "percents = np.array(['%' for i in range(20)])\n",
    "label = np.append(label, percents) \n",
    "label.shape"
   ]
  },
  {
   "cell_type": "code",
   "execution_count": 9,
   "id": "bfd31005",
   "metadata": {},
   "outputs": [],
   "source": [
    "from sklearn.model_selection import train_test_split\n",
    "X_train, X_test, y_train, y_test = train_test_split(\n",
    "    data, label, test_size=0.3, random_state=1)"
   ]
  },
  {
   "cell_type": "code",
   "execution_count": 10,
   "id": "80eebef1",
   "metadata": {},
   "outputs": [
    {
     "name": "stdout",
     "output_type": "stream",
     "text": [
      "(1271, 64) (546, 64) (1271,) (546,)\n"
     ]
    }
   ],
   "source": [
    "print(X_train.shape, X_test.shape, y_train.shape, y_test.shape)"
   ]
  },
  {
   "cell_type": "code",
   "execution_count": 11,
   "id": "3bfadb15",
   "metadata": {},
   "outputs": [],
   "source": [
    "mlp = MLPClassifier(hidden_layer_sizes=(50), max_iter=100, alpha=1e-4,solver='sgd', \n",
    "                    verbose=10, tol=1e-4, random_state=1,\n",
    "                    learning_rate_init=.03)"
   ]
  },
  {
   "cell_type": "code",
   "execution_count": 12,
   "id": "6d7acf66",
   "metadata": {},
   "outputs": [
    {
     "name": "stdout",
     "output_type": "stream",
     "text": [
      "Iteration 1, loss = 11.95383702\n",
      "Iteration 2, loss = 1.60108081\n",
      "Iteration 3, loss = 1.01113244\n",
      "Iteration 4, loss = 0.73339738\n",
      "Iteration 5, loss = 0.38473300\n",
      "Iteration 6, loss = 0.25833112\n",
      "Iteration 7, loss = 0.19709142\n",
      "Iteration 8, loss = 0.18681122\n",
      "Iteration 9, loss = 0.14756633\n",
      "Iteration 10, loss = 0.13568513\n",
      "Iteration 11, loss = 0.13539707\n",
      "Iteration 12, loss = 0.10652051\n",
      "Iteration 13, loss = 0.12163692\n",
      "Iteration 14, loss = 0.09864247\n",
      "Iteration 15, loss = 0.08138941\n",
      "Iteration 16, loss = 0.07319684\n",
      "Iteration 17, loss = 0.06884890\n",
      "Iteration 18, loss = 0.06589978\n",
      "Iteration 19, loss = 0.06794320\n",
      "Iteration 20, loss = 0.05278608\n",
      "Iteration 21, loss = 0.04943945\n",
      "Iteration 22, loss = 0.04476647\n",
      "Iteration 23, loss = 0.03738910\n",
      "Iteration 24, loss = 0.03408925\n",
      "Iteration 25, loss = 0.03916413\n",
      "Iteration 26, loss = 0.02928892\n",
      "Iteration 27, loss = 0.02756774\n",
      "Iteration 28, loss = 0.02835041\n",
      "Iteration 29, loss = 0.02361613\n",
      "Iteration 30, loss = 0.02431072\n",
      "Iteration 31, loss = 0.01881238\n",
      "Iteration 32, loss = 0.01919438\n",
      "Iteration 33, loss = 0.01666635\n",
      "Iteration 34, loss = 0.01487122\n",
      "Iteration 35, loss = 0.01447478\n",
      "Iteration 36, loss = 0.01485861\n",
      "Iteration 37, loss = 0.01490380\n",
      "Iteration 38, loss = 0.01283732\n",
      "Iteration 39, loss = 0.01127124\n",
      "Iteration 40, loss = 0.01105919\n",
      "Iteration 41, loss = 0.01028211\n",
      "Iteration 42, loss = 0.01002736\n",
      "Iteration 43, loss = 0.00915797\n",
      "Iteration 44, loss = 0.00911017\n",
      "Iteration 45, loss = 0.00894936\n",
      "Iteration 46, loss = 0.00799429\n",
      "Iteration 47, loss = 0.00802737\n",
      "Iteration 48, loss = 0.00770590\n",
      "Iteration 49, loss = 0.00762314\n",
      "Iteration 50, loss = 0.00733099\n",
      "Iteration 51, loss = 0.00707537\n",
      "Iteration 52, loss = 0.00657388\n",
      "Iteration 53, loss = 0.00650859\n",
      "Iteration 54, loss = 0.00629778\n",
      "Iteration 55, loss = 0.00596076\n",
      "Iteration 56, loss = 0.00624191\n",
      "Iteration 57, loss = 0.00573669\n",
      "Iteration 58, loss = 0.00623933\n",
      "Iteration 59, loss = 0.00565304\n",
      "Iteration 60, loss = 0.00521717\n",
      "Iteration 61, loss = 0.00526139\n",
      "Iteration 62, loss = 0.00496302\n",
      "Iteration 63, loss = 0.00477514\n",
      "Iteration 64, loss = 0.00531431\n",
      "Iteration 65, loss = 0.00486165\n",
      "Iteration 66, loss = 0.00445248\n",
      "Iteration 67, loss = 0.00443905\n",
      "Iteration 68, loss = 0.00436021\n",
      "Iteration 69, loss = 0.00406457\n",
      "Iteration 70, loss = 0.00400828\n",
      "Iteration 71, loss = 0.00413124\n",
      "Iteration 72, loss = 0.00387485\n",
      "Iteration 73, loss = 0.00379452\n",
      "Iteration 74, loss = 0.00368664\n",
      "Iteration 75, loss = 0.00356564\n",
      "Iteration 76, loss = 0.00357998\n",
      "Iteration 77, loss = 0.00357044\n",
      "Iteration 78, loss = 0.00339603\n",
      "Iteration 79, loss = 0.00335421\n",
      "Iteration 80, loss = 0.00323405\n",
      "Iteration 81, loss = 0.00323141\n",
      "Iteration 82, loss = 0.00316526\n",
      "Iteration 83, loss = 0.00317002\n",
      "Iteration 84, loss = 0.00309898\n",
      "Iteration 85, loss = 0.00313073\n",
      "Iteration 86, loss = 0.00301749\n",
      "Iteration 87, loss = 0.00299743\n",
      "Iteration 88, loss = 0.00309145\n",
      "Iteration 89, loss = 0.00286516\n",
      "Iteration 90, loss = 0.00280973\n",
      "Iteration 91, loss = 0.00272921\n",
      "Iteration 92, loss = 0.00269030\n",
      "Iteration 93, loss = 0.00266479\n",
      "Iteration 94, loss = 0.00260095\n",
      "Iteration 95, loss = 0.00259330\n",
      "Iteration 96, loss = 0.00253661\n",
      "Iteration 97, loss = 0.00252351\n",
      "Iteration 98, loss = 0.00252244\n",
      "Iteration 99, loss = 0.00253909\n",
      "Iteration 100, loss = 0.00249768\n",
      "Training loss did not improve more than tol=0.000100 for 10 consecutive epochs. Stopping.\n",
      "Training set score: 1.000000\n",
      "Test set score: 0.945055\n"
     ]
    }
   ],
   "source": [
    "mlp.fit(X_train, y_train)\n",
    "print(\"Training set score: %f\" % mlp.score(X_train, y_train))\n",
    "print(\"Test set score: %f\" % mlp.score(X_test, y_test))"
   ]
  },
  {
   "cell_type": "code",
   "execution_count": 13,
   "id": "4a4ef64e",
   "metadata": {},
   "outputs": [
    {
     "data": {
      "text/plain": [
       "[array([[-0.03806794,  0.10107861, -0.22198125, ..., -0.09930955,\n",
       "         -0.09736263, -0.16973236],\n",
       "        [-0.2213266 ,  0.08707644, -0.08818467, ..., -0.01607183,\n",
       "         -0.24530414,  0.04751064],\n",
       "        [-0.09021852, -0.07526011,  0.18097951, ..., -0.16141766,\n",
       "         -0.15860215, -0.32088878],\n",
       "        ...,\n",
       "        [-0.22687968, -0.0205564 ,  0.05168886, ..., -0.68451153,\n",
       "         -0.05496566, -0.28770133],\n",
       "        [-0.1439357 , -0.13613428,  0.29427406, ..., -0.27694375,\n",
       "         -0.14941044, -0.16006204],\n",
       "        [-0.17412849,  0.01789779, -0.09558146, ...,  0.103246  ,\n",
       "         -0.01419149,  0.15260704]]),\n",
       " array([[ 8.56657035e-02,  1.12096477e-01,  1.67349587e-01,\n",
       "          2.25530621e-01,  8.39154223e-02,  1.16447012e-01,\n",
       "         -1.82118970e-01,  1.51963284e-01,  1.73926250e-01,\n",
       "          2.59402548e-01,  2.25204727e-01],\n",
       "        [ 5.43169985e-02, -3.27768514e-01,  4.09195676e-02,\n",
       "          3.06794949e-01,  2.01743112e-01, -6.12835440e-01,\n",
       "          3.22585033e-01,  2.14132202e-01, -2.41243294e-01,\n",
       "          1.30458340e-01, -9.47546856e-02],\n",
       "        [ 4.63181772e-01,  5.16469496e-02, -3.25144430e-01,\n",
       "          1.00497547e-01, -2.26835513e-01, -3.01273524e-01,\n",
       "         -2.95898843e-02,  1.84914272e-01, -2.19506873e-01,\n",
       "         -2.82377037e-01,  2.13681085e-01],\n",
       "        [ 2.50111041e-01,  7.92399374e-01,  1.12603919e-01,\n",
       "          1.83534498e-01, -4.95889696e-01,  1.23045426e+00,\n",
       "          8.90016467e-01, -3.08330659e+00,  2.86083045e-01,\n",
       "          2.42164759e-01,  3.21134879e-01],\n",
       "        [ 4.44551455e-02,  2.15801288e-01, -2.33110454e-01,\n",
       "          1.32070035e+00, -3.96981194e+00,  4.45085630e-01,\n",
       "          2.76600322e-01,  1.88944348e-02,  8.74892530e-01,\n",
       "          5.37762911e-01,  2.32100639e-01],\n",
       "        [-1.43951436e-01, -1.39087194e-01, -1.89409655e-01,\n",
       "         -4.00600904e-02,  5.03720149e-01, -7.66073414e-01,\n",
       "          5.59413275e-01,  5.79429412e-02, -1.09944164e-01,\n",
       "          9.95023973e-02,  3.18888872e-02],\n",
       "        [-2.04570967e-01,  2.32256893e-01,  7.59130297e-02,\n",
       "          2.07607631e-01, -5.70472309e-02, -1.39484838e+00,\n",
       "          1.86823513e-01,  4.01757694e-01, -2.65849271e-01,\n",
       "          1.88644489e-01,  3.40519692e-01],\n",
       "        [ 2.61829069e-01,  3.28945842e-01, -1.43262244e-01,\n",
       "          1.09970817e-01,  3.17566556e-01, -2.48692182e-01,\n",
       "          2.05954672e-02,  1.88029150e-01, -7.91721558e-02,\n",
       "         -3.73232014e-02,  1.58090548e-01],\n",
       "        [-2.43765171e-01,  9.28213982e-01, -1.70674311e+00,\n",
       "          4.57343669e-01, -1.38755482e+00,  1.30739777e-01,\n",
       "          8.23849634e-01,  7.86865381e-01, -1.35310762e-01,\n",
       "          4.98655266e-01,  3.07343638e-01],\n",
       "        [-3.40697215e-01, -3.10585827e-01,  1.13137663e+00,\n",
       "          1.79422725e-01,  2.81796243e-01,  2.23896762e-01,\n",
       "          2.69011057e-01,  3.63431764e-01, -5.68995287e-01,\n",
       "          1.27008735e-01, -3.38628025e-01],\n",
       "        [-1.48483898e-01, -3.53366746e-01, -1.00123303e-01,\n",
       "          1.09655806e-01,  2.60701384e-01,  6.29970749e-02,\n",
       "         -2.42677204e-01, -2.29044942e-01,  1.11116471e-01,\n",
       "         -7.75207379e-02, -9.59444059e-02],\n",
       "        [-1.96919076e-01,  1.78680943e-02,  2.68226865e-01,\n",
       "          6.61473823e-01, -3.14087773e+00,  5.29667158e-01,\n",
       "          1.64954371e+00, -2.36482892e+00,  1.04314401e+00,\n",
       "          3.27214206e-01,  9.03111536e-01],\n",
       "        [-6.68842446e-02,  1.85121857e+00, -2.78159756e+00,\n",
       "          3.48099677e+00, -6.89359434e+00,  1.40666296e+00,\n",
       "          1.94524691e+00, -1.51688346e+00,  9.60229078e-01,\n",
       "          6.43172686e-01,  5.72477172e-01],\n",
       "        [-2.37673997e-01,  2.35525840e-01, -1.93338525e+00,\n",
       "          7.00231566e-01,  5.49008076e-01, -3.71636930e-01,\n",
       "          4.44584077e-01,  9.48527648e-01, -4.64230804e-01,\n",
       "          7.28197579e-01, -1.51026826e-01],\n",
       "        [-2.25425964e-01,  3.02010890e-01, -3.41647035e-02,\n",
       "         -4.40942935e-01,  1.83624228e-01, -1.81086101e-01,\n",
       "          4.24260086e-01, -5.63433069e-03, -4.56233390e-01,\n",
       "          6.68490570e-01,  7.79270190e-01],\n",
       "        [ 2.44490687e-02, -5.25706941e-01,  3.38254344e-01,\n",
       "         -4.14433624e-01, -1.68635749e-01, -1.63373666e-01,\n",
       "          9.00479486e-01,  1.17650749e-01,  1.06297472e-01,\n",
       "         -5.18009924e-01, -3.54067389e-01],\n",
       "        [ 6.16749696e-01, -3.87627918e-01, -3.30124697e-01,\n",
       "          7.75522805e-01, -1.15790280e-01, -5.72391235e-02,\n",
       "         -3.43905313e-01,  1.92231910e-01, -2.94585839e-01,\n",
       "          3.16245259e-01, -9.32609582e-01],\n",
       "        [-1.50838759e-01, -9.85614388e-03, -2.88429199e-01,\n",
       "         -1.49409843e-01,  1.79411584e-02, -3.84137160e-01,\n",
       "          5.15461524e-01, -7.95877363e-03, -3.44324068e-02,\n",
       "         -9.94350550e-02,  1.82088743e-01],\n",
       "        [ 1.61570135e-01,  2.67570346e+00,  9.90489075e-02,\n",
       "          2.07401229e+00, -4.48599928e+00,  1.86260133e+00,\n",
       "          2.72333200e+00, -9.53148277e+00,  1.56416734e+00,\n",
       "          9.64385590e-01,  1.92688527e+00],\n",
       "        [ 3.60897085e-02,  9.62349947e-02, -2.40705820e-01,\n",
       "         -2.02463282e-01, -3.48942954e-02,  1.44664996e-03,\n",
       "         -1.57662783e-01,  7.34311963e-02, -1.38812853e-01,\n",
       "          2.78323436e-01, -2.65084685e-01],\n",
       "        [ 4.28263063e-02,  4.48360190e-01, -9.12116199e-02,\n",
       "         -8.99523946e-02, -2.19859224e-01,  9.79041714e-01,\n",
       "         -2.47077236e-01,  1.35957948e-01,  3.27094153e-01,\n",
       "         -2.76269483e-01, -5.76015010e-01],\n",
       "        [ 4.30300061e-02,  8.90569515e-01, -3.21893904e+00,\n",
       "          5.60240204e-01,  7.30657065e-01, -4.05378716e-01,\n",
       "          2.64500488e-01,  7.00995533e-01,  3.16405029e-01,\n",
       "          6.47374508e-01, -1.24679574e-01],\n",
       "        [ 2.17431141e-01,  3.34665359e-02,  1.90428817e-02,\n",
       "         -1.36300618e-01,  2.87736128e-01, -7.70684853e-01,\n",
       "         -3.64163996e-02,  6.51047686e-01, -2.20111650e-01,\n",
       "          2.25182785e-01,  1.50405205e-01],\n",
       "        [-2.60996459e-01,  1.11109147e+00, -2.48127495e+00,\n",
       "          2.12661449e-01,  3.54356077e-01, -2.78813009e-01,\n",
       "          1.75009748e-01,  2.75696789e-01,  2.47256696e-01,\n",
       "          2.83490713e-01, -4.51178646e-01],\n",
       "        [-1.94692997e-02, -3.64747653e-01, -3.45574908e-02,\n",
       "          3.18783553e-01,  4.02900392e-01, -5.97684453e-01,\n",
       "          9.77910246e-02, -1.68359749e-01, -5.87943215e-03,\n",
       "          1.09883039e-01, -1.69095099e-01],\n",
       "        [ 9.74554382e-02,  2.47662212e-01, -2.14584647e-01,\n",
       "         -2.14827603e-01, -6.36583129e-02, -2.76639367e-01,\n",
       "          3.33693010e-01, -8.24279074e-02,  2.02821798e-01,\n",
       "          2.56698790e-01,  1.31134503e-01],\n",
       "        [-7.16686578e-02,  2.77070566e-01, -1.85985544e+00,\n",
       "         -1.60351686e-02,  3.37487606e-01,  4.72454060e-02,\n",
       "          2.47960539e-01,  7.89355092e-01, -2.29453991e-01,\n",
       "          1.50327123e-01,  7.68095233e-02],\n",
       "        [-1.02758539e-02, -2.88040079e-01,  5.19629751e-01,\n",
       "         -1.83500613e-01, -3.86929980e-01,  3.88295453e-01,\n",
       "         -4.21704543e-01, -1.42913914e-01,  7.95707505e-02,\n",
       "          3.72122675e-01, -2.58488543e-01],\n",
       "        [-1.31993230e-02, -4.89422983e-02,  1.99820419e-01,\n",
       "         -2.82537584e-01, -9.53912400e-03, -3.50296714e-01,\n",
       "          2.30137235e-01,  1.81599492e-01, -1.34874883e-01,\n",
       "         -2.45753767e-01,  8.22080181e-02],\n",
       "        [-2.74911582e-01, -5.70433737e-03, -3.19144962e+00,\n",
       "          2.63487155e-01,  1.23981577e+00, -5.08554754e-01,\n",
       "          3.39061725e-01,  1.29460233e-01,  8.93467810e-01,\n",
       "          7.03021888e-01, -2.22605609e-01],\n",
       "        [-1.65221918e-01, -1.31955882e-01, -2.20805444e-01,\n",
       "          2.92366831e-01,  2.65037817e-01, -6.63151792e-01,\n",
       "         -2.80053025e-02,  4.86686057e-01, -1.30256050e-01,\n",
       "          3.62083387e-01,  2.59980955e-01],\n",
       "        [-1.94091636e-01,  1.15561541e-01, -2.72105744e-01,\n",
       "          1.55393231e-01,  2.14022705e-01, -5.07948513e-02,\n",
       "          2.22830027e-02,  2.90529806e-01, -2.44183142e-01,\n",
       "         -2.86742131e-01, -1.52470639e-01],\n",
       "        [ 6.02050372e-03, -2.94662048e-01, -8.69747797e-03,\n",
       "         -1.36140807e-01,  9.57708343e-02, -6.87913666e-01,\n",
       "          1.73541992e-01,  1.10012851e-02,  4.40241978e-01,\n",
       "          2.31750441e-01,  7.71412171e-02],\n",
       "        [-1.87399390e-01, -1.04319234e-01,  1.81847898e-01,\n",
       "          1.88479820e-01, -1.97090299e-01, -9.95087399e-02,\n",
       "         -1.96021602e-01, -2.65704256e-01, -2.86835367e-01,\n",
       "         -7.11976808e-02, -1.17544643e-01],\n",
       "        [ 2.85032293e-01, -1.35040627e-01, -5.88526444e-03,\n",
       "          2.99401212e-01,  1.56299926e-01, -1.36454239e+00,\n",
       "          3.72217840e-01,  2.23347334e-01, -2.99283377e-01,\n",
       "          5.96936139e-01,  6.49583052e-01],\n",
       "        [-6.10712801e-02,  4.56158929e-01, -2.02849392e+00,\n",
       "          5.07008819e-01,  1.21731927e-01, -4.23372539e-01,\n",
       "          4.73604531e-01,  7.41359115e-01, -8.30098567e-02,\n",
       "          5.67478476e-01, -2.93523013e-01],\n",
       "        [-2.89531791e-01, -1.00542499e-02, -1.80387739e+00,\n",
       "          5.71274591e-01,  4.38728902e-01, -6.11146878e-01,\n",
       "          4.56025112e-01,  6.89302582e-01,  9.72400748e-02,\n",
       "          4.79641012e-01, -1.42956727e-01],\n",
       "        [ 1.59368782e-01, -6.38708923e-03, -2.73765643e-01,\n",
       "          2.67624839e-01, -1.53113796e+00, -1.37978896e-02,\n",
       "          1.15277194e-01,  1.26965557e-01,  8.21768579e-01,\n",
       "         -1.03323433e-01, -1.54930711e-01],\n",
       "        [-4.42683391e-01,  4.38025128e-02, -7.86067842e-01,\n",
       "          2.26765927e-01,  6.22252970e-01, -4.76841874e-01,\n",
       "          2.38685506e-01, -5.24285982e-01,  8.49318482e-01,\n",
       "         -4.65344380e-01,  4.51653851e-01],\n",
       "        [ 1.47585779e-02, -4.56548181e-01,  7.43197600e-02,\n",
       "          2.48477399e-02,  2.31482351e-01, -1.36691691e+00,\n",
       "          2.61695832e-01,  6.10939817e-02, -3.60816245e-01,\n",
       "          3.76924684e-01,  4.04045957e-01],\n",
       "        [-2.12928854e-01,  7.53115116e-02,  3.67459807e-01,\n",
       "          1.26935550e-01, -2.31142756e-01, -1.78098545e-01,\n",
       "         -5.29830655e-02,  2.50194082e-01,  6.18584976e-02,\n",
       "         -1.11569594e-01, -1.95113582e-01],\n",
       "        [ 1.64467793e-01,  7.65366717e-02,  3.31457202e-02,\n",
       "         -1.31718815e-01,  7.39374189e-02, -6.77867011e-01,\n",
       "          2.75984096e-01,  3.17882693e-01, -1.78023075e-01,\n",
       "         -3.01329195e-02,  1.69926881e-01],\n",
       "        [-1.22894032e-01,  4.20989858e-01, -2.78576023e+00,\n",
       "          6.47613261e-01, -1.77312335e+00, -2.34497946e-01,\n",
       "          8.02996857e-01,  8.18378231e-01,  8.46751615e-01,\n",
       "          9.67663773e-01, -1.48817481e-01],\n",
       "        [-2.57760066e-01,  1.94554727e-01,  2.41036468e-01,\n",
       "         -1.62553121e-02, -6.18786770e-02,  6.87989054e-02,\n",
       "         -7.39526366e-02,  2.84303708e-01,  8.85920097e-02,\n",
       "         -1.96539706e-01, -7.89175024e-02],\n",
       "        [-1.61952100e-01,  9.07351187e-01,  2.94545424e-02,\n",
       "         -3.47828536e-01, -1.31134895e-01,  6.76183112e-03,\n",
       "         -4.58174026e-03,  7.82830912e-01, -3.18704918e-01,\n",
       "          7.49735159e-02, -1.05762946e-01],\n",
       "        [-1.79283944e-01, -3.29355167e-01, -2.09943602e-02,\n",
       "          3.59690145e-01, -2.52172989e-01, -8.72123781e-01,\n",
       "          1.40066270e-01,  2.40883772e-01, -1.14681264e-01,\n",
       "          2.09553456e-01,  3.63927812e-01],\n",
       "        [ 2.76486610e-01, -2.59156784e-01, -2.97078010e-01,\n",
       "         -3.63412029e-01, -3.60753546e-01,  3.22994945e-01,\n",
       "         -4.36299583e-02,  1.87872232e-01,  2.73378762e-01,\n",
       "         -2.95012265e-01,  3.53226238e-01],\n",
       "        [ 1.86583199e-01,  1.02992444e+00, -1.76806610e+00,\n",
       "          1.33942723e+00, -6.02104787e+00,  1.00007038e+00,\n",
       "          9.09989306e-01,  1.15633070e+00,  1.22439354e+00,\n",
       "          5.15660297e-01,  3.96554035e-01],\n",
       "        [-6.43835003e-02, -2.89363422e-01, -4.85034055e-01,\n",
       "          3.25800183e-01,  9.51840869e-01, -1.17536913e+00,\n",
       "          4.99731374e-01, -1.68926374e-01,  2.47436629e-02,\n",
       "          4.85585226e-01,  4.02140096e-01],\n",
       "        [-1.26444072e-01,  2.96263030e-01,  1.73333161e-01,\n",
       "         -3.10276573e-02, -6.92047904e-02,  1.11423860e-01,\n",
       "          2.61130771e-01, -1.21828379e-01, -2.31773189e-01,\n",
       "          6.72464561e-02, -1.65691389e-01]])]"
      ]
     },
     "execution_count": 13,
     "metadata": {},
     "output_type": "execute_result"
    }
   ],
   "source": [
    "mlp.coefs_"
   ]
  },
  {
   "cell_type": "code",
   "execution_count": 14,
   "id": "9660d0ae",
   "metadata": {},
   "outputs": [
    {
     "data": {
      "image/png": "[encoded data removed]",
      "text/plain": [
       "<Figure size 432x288 with 50 Axes>"
      ]
     },
     "metadata": {},
     "output_type": "display_data"
    }
   ],
   "source": [
    "fig, axes = plt.subplots(5,10)\n",
    "vmin, vmax = mlp.coefs_[0].min(), mlp.coefs_[0].max()\n",
    "for coef, ax in zip(mlp.coefs_[0].T, axes.ravel()):\n",
    "    ax.matshow(coef.reshape(8,8), cmap=plt.cm.gray, vmin=.5 * vmin, vmax=.5 * vmax)\n",
    "    ax.set_xticks(())\n",
    "    ax.set_yticks(())\n",
    "plt.show()"
   ]
  },
  {
   "cell_type": "code",
   "execution_count": 15,
   "id": "b70e7778",
   "metadata": {},
   "outputs": [
    {
     "data": {
      "text/plain": [
       "<matplotlib.image.AxesImage at 0x7f77b5e00970>"
      ]
     },
     "execution_count": 15,
     "metadata": {},
     "output_type": "execute_result"
    },
    {
     "data": {
      "image/png": "[encoded data removed]",
      "text/plain": [
       "<Figure size 432x288 with 1 Axes>"
      ]
     },
     "metadata": {
      "needs_background": "light"
     },
     "output_type": "display_data"
    }
   ],
   "source": [
    "image = mpimg.imread(\n",
    "    \"/home/gasai/github/projects/ml_perseptron/test_percent.png\")\n",
    "plt.imshow(image, cmap=plt.get_cmap(\"gray\"))"
   ]
  },
  {
   "cell_type": "code",
   "execution_count": 16,
   "id": "7f5e1f2d",
   "metadata": {},
   "outputs": [
    {
     "data": {
      "text/plain": [
       "(8, 8)"
      ]
     },
     "execution_count": 16,
     "metadata": {},
     "output_type": "execute_result"
    }
   ],
   "source": [
    "image_gray = (16 - image[:, :, 0] * 16).astype(int)\n",
    "image_gray.shape"
   ]
  },
  {
   "cell_type": "code",
   "execution_count": 18,
   "id": "f5dd9762",
   "metadata": {},
   "outputs": [
    {
     "name": "stdout",
     "output_type": "stream",
     "text": [
      "Это символ - %\n"
     ]
    }
   ],
   "source": [
    "prediction = mlp.predict(image_gray.reshape(1, 64))\n",
    "print(\"Это символ - \" + str(prediction[0]))"
   ]
  },
  {
   "cell_type": "code",
   "execution_count": 19,
   "id": "2b0b8cf8",
   "metadata": {},
   "outputs": [
    {
     "data": {
      "text/plain": [
       "<matplotlib.image.AxesImage at 0x7f77b5d34310>"
      ]
     },
     "execution_count": 19,
     "metadata": {},
     "output_type": "execute_result"
    },
    {
     "data": {
      "image/png": "[encoded data removed]",
      "text/plain": [
       "<Figure size 432x288 with 1 Axes>"
      ]
     },
     "metadata": {
      "needs_background": "light"
     },
     "output_type": "display_data"
    }
   ],
   "source": [
    "image = mpimg.imread(\n",
    "    \"/home/gasai/github/projects/ml_perseptron/test_2.png\")\n",
    "plt.imshow(image, cmap=plt.get_cmap(\"gray\"))\n"
   ]
  },
  {
   "cell_type": "code",
   "execution_count": 20,
   "id": "9f13087c",
   "metadata": {},
   "outputs": [
    {
     "name": "stdout",
     "output_type": "stream",
     "text": [
      "Это символ - 2\n"
     ]
    }
   ],
   "source": [
    "image_gray = (16 - image[:, :, 0] * 16).astype(int)\n",
    "prediction = mlp.predict(image_gray.reshape(1, 64))\n",
    "print(\"Это символ - \" + str(prediction[0]))"
   ]
  }
 ],
 "metadata": {
  "kernelspec": {
   "display_name": "Python 3 (ipykernel)",
   "language": "python",
   "name": "python3"
  },
  "language_info": {
   "codemirror_mode": {
    "name": "ipython",
    "version": 3
   },
   "file_extension": ".py",
   "mimetype": "text/x-python",
   "name": "python",
   "nbconvert_exporter": "python",
   "pygments_lexer": "ipython3",
   "version": "3.10.2"
  }
 },
 "nbformat": 4,
 "nbformat_minor": 5
}
