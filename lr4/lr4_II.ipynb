{
 "cells": [
  {
   "cell_type": "code",
   "execution_count": 1,
   "metadata": {},
   "outputs": [],
   "source": [
    "import random\n",
    "import numpy as np\n",
    "import matplotlib.pyplot as plt"
   ]
  },
  {
   "cell_type": "code",
   "execution_count": 2,
   "metadata": {},
   "outputs": [],
   "source": [
    "NUMBER_OF_PIXEL = 10\n",
    "K = 3"
   ]
  },
  {
   "cell_type": "code",
   "execution_count": 3,
   "metadata": {},
   "outputs": [],
   "source": [
    "def main():\n",
    "    pixels = np.random.randint(0, 255 + 1, size=(NUMBER_OF_PIXEL, 3))\n",
    "    points = [7, 5, 6, 9,\n",
    "        11, 15, 56,\n",
    "        45, 27, 20,\n",
    "        ]\n",
    "    k_means(points)\n",
    "    k_means_for_pixels(pixels)"
   ]
  },
  {
   "cell_type": "code",
   "execution_count": 4,
   "metadata": {},
   "outputs": [],
   "source": [
    "def pixel_bright(pix1, pix2):\n",
    "    \"\"\"Evaluates the proximity of pixel brightness.\n",
    "    \n",
    "    f_i = 30 * (Ri-R0)**2 + 59 * (Gi-G0)**2 + 11 * (Bi-B0)**2\n",
    "    30, 59, 11 -- sensitivity of the human eye to \n",
    "    red, green and blue colors.\n",
    "\n",
    "    \"\"\"\n",
    "    R1, G1, B1 = pix1[0], pix1[1], pix1[2]\n",
    "    R2, G2, B2 = pix2[0], pix2[1], pix2[2]\n",
    "    return 30 * (R1-R2)**2 + 59 * (G1-G2)**2 + 11 * (B1-B2)**2"
   ]
  },
  {
   "cell_type": "code",
   "execution_count": 5,
   "metadata": {},
   "outputs": [],
   "source": [
    "def estimate_center(cluster):\n",
    "    \"\"\"Find and return mean RGB value in cluster.\"\"\"\n",
    "    R, G, B = 0, 0, 0\n",
    "    len_cluster = len(cluster)\n",
    "    for pixel in cluster:\n",
    "        R += pixel[0]\n",
    "        G += pixel[1]\n",
    "        B += pixel[2]\n",
    "    R = round(R / len_cluster)\n",
    "    G = round(G / len_cluster)\n",
    "    B = round(B / len_cluster)\n",
    "    return [R, G, B]"
   ]
  },
  {
   "cell_type": "code",
   "execution_count": 6,
   "metadata": {},
   "outputs": [],
   "source": [
    "def visualisation_2d(cluster_content):\n",
    "\t\"\"\"Show scatter of clusters.\"\"\"\n",
    "\tk = len(cluster_content)\n",
    "\tplt.grid() \n",
    "\tplt.xlabel(\"x\")    \n",
    "\tplt.ylabel(\"y\")\n",
    "\n",
    "\tfor i in range(k): \n",
    "\t\tx_coordinates = []\n",
    "\t\ty_coordinates = []\n",
    "\t\tfor q in range(len(cluster_content[i])):\n",
    "\t\t\tx_coordinates.append(cluster_content[i][q][0])\n",
    "\t\t\ty_coordinates.append(cluster_content[i][q][1])\n",
    "\t\tplt.scatter(x_coordinates, y_coordinates)\n",
    "\tplt.show()"
   ]
  },
  {
   "cell_type": "code",
   "execution_count": 7,
   "metadata": {},
   "outputs": [],
   "source": [
    "def k_means_for_pixels(pixels):\n",
    "    \"\"\"Method k-means for pixels.\"\"\"\n",
    "    # 1 point\n",
    "    samples = random.sample(range(0, NUMBER_OF_PIXEL), K)\n",
    "    centers = [pixels[s] for s in samples]\n",
    "    clusters = [[]] * K \n",
    "    while True:\n",
    "        clusters0 = clusters[:]\n",
    "        clusters = [[]] * K\n",
    "        # 2 point\n",
    "        for pixel in pixels:\n",
    "            proximity = [pixel_bright(pixel, c) for c in centers]\n",
    "            clusters[np.argmin(proximity)].append(pixel)\n",
    "        # 3 point\n",
    "        for i in range(K):\n",
    "            centers[i] = estimate_center(clusters[i])\n",
    "        # 4 point\n",
    "        check = True\n",
    "        for i in range(len(clusters)):\n",
    "            for j in range(len(clusters[i])):\n",
    "                if len(clusters0[i]) != len(clusters[i]):\n",
    "                    check = False\n",
    "                    break\n",
    "                for k in range(len(clusters[i][j])):\n",
    "                    if clusters[i][j][k] != clusters0[i][j][k]:\n",
    "                        check = False\n",
    "        if check:\n",
    "            break\n",
    "        visualisation_2d(clusters)\n",
    "    "
   ]
  },
  {
   "cell_type": "code",
   "execution_count": 8,
   "metadata": {},
   "outputs": [],
   "source": [
    "def k_means(points):\n",
    "    \"\"\"Method k-means for points.\"\"\"\n",
    "    # 1 point\n",
    "    centers = random.sample(points, K)\n",
    "    clusters = [[]] * K\n",
    "    while True:\n",
    "        clusters0 = clusters[:]\n",
    "        clusters = [[]] * K\n",
    "        # 2 point\n",
    "        for point in points:\n",
    "            distance = [abs(point - c) for c in centers]\n",
    "            clusters[np.argmin(distance)].append(point)\n",
    "        print(clusters)\n",
    "        # 3 point\n",
    "        for i in range(K):\n",
    "            centers[i] = round(sum(clusters[i]) / len(clusters[i]))\n",
    "        print(centers)\n",
    "        # 4 point\n",
    "        if clusters == clusters0:\n",
    "            break\n",
    "    print(clusters)\n",
    "    "
   ]
  },
  {
   "cell_type": "code",
   "execution_count": 9,
   "metadata": {},
   "outputs": [
    {
     "name": "stdout",
     "output_type": "stream",
     "text": [
      "[[7, 5, 6, 9, 11, 15, 56, 45, 27, 20], [7, 5, 6, 9, 11, 15, 56, 45, 27, 20], [7, 5, 6, 9, 11, 15, 56, 45, 27, 20]]\n",
      "[20, 20, 20]\n",
      "[[7, 5, 6, 9, 11, 15, 56, 45, 27, 20], [7, 5, 6, 9, 11, 15, 56, 45, 27, 20], [7, 5, 6, 9, 11, 15, 56, 45, 27, 20]]\n",
      "[20, 20, 20]\n",
      "[[7, 5, 6, 9, 11, 15, 56, 45, 27, 20], [7, 5, 6, 9, 11, 15, 56, 45, 27, 20], [7, 5, 6, 9, 11, 15, 56, 45, 27, 20]]\n"
     ]
    },
    {
     "data": {
      "image/png": "[encoded data removed]",
      "text/plain": [
       "<Figure size 432x288 with 1 Axes>"
      ]
     },
     "metadata": {
      "needs_background": "light"
     },
     "output_type": "display_data"
    }
   ],
   "source": [
    "if __name__ == '__main__':\n",
    "    main()"
   ]
  },
  {
   "cell_type": "code",
   "execution_count": null,
   "metadata": {},
   "outputs": [],
   "source": []
  }
 ],
 "metadata": {
  "interpreter": {
   "hash": "e7370f93d1d0cde622a1f8e1c04877d8463912d04d973331ad4851f04de6915a"
  },
  "kernelspec": {
   "display_name": "Python 3.10.2 64-bit",
   "language": "python",
   "name": "python3"
  },
  "language_info": {
   "codemirror_mode": {
    "name": "ipython",
    "version": 3
   },
   "file_extension": ".py",
   "mimetype": "text/x-python",
   "name": "python",
   "nbconvert_exporter": "python",
   "pygments_lexer": "ipython3",
   "version": "3.10.2"
  },
  "orig_nbformat": 4
 },
 "nbformat": 4,
 "nbformat_minor": 2
}
