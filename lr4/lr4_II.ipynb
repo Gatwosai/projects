{
 "cells": [
  {
   "cell_type": "code",
   "execution_count": 3,
   "metadata": {},
   "outputs": [],
   "source": [
    "import random\n",
    "import numpy as np"
   ]
  },
  {
   "cell_type": "code",
   "execution_count": 4,
   "metadata": {},
   "outputs": [],
   "source": [
    "NUMBER_OF_PIXEL = 10\n",
    "K = 3"
   ]
  },
  {
   "cell_type": "code",
   "execution_count": 5,
   "metadata": {},
   "outputs": [],
   "source": [
    "def main():\n",
    "    points = [7, 5, 6, 9,\n",
    "        11, 15, 56,\n",
    "        45, 27, 20,\n",
    "        ]\n",
    "    k_means(points)"
   ]
  },
  {
   "cell_type": "code",
   "execution_count": 6,
   "metadata": {},
   "outputs": [],
   "source": [
    "def pixel_bright(R, G, B):\n",
    "    \"\"\"Evaluates the proximity of pixel brightness.\n",
    "    \n",
    "    f_i = 30 * (Ri-R0)**2 + 59 * (Gi-G0)**2 + 11 * (Bi-B0)**2\n",
    "    30, 59, 11 -- sensitivity of the human eye to \n",
    "    red, green and blue colors.\n",
    "    R, G, B = [0, 255]\n",
    "\n",
    "    \"\"\"\n",
    "    pass"
   ]
  },
  {
   "cell_type": "code",
   "execution_count": 14,
   "metadata": {},
   "outputs": [],
   "source": [
    "def k_means(points):\n",
    "    \"\"\"Method k-means.\"\"\"\n",
    "    # 1 point\n",
    "    centers = random.sample(points, K)\n",
    "    clusters = [[], [], [],]\n",
    "    while True:\n",
    "        clusters0 = clusters[:]\n",
    "        clusters = [[], [], [],]\n",
    "        # 2 point\n",
    "        for point in points:\n",
    "            distance = [abs(point - c) for c in centers]\n",
    "            clusters[np.argmin(distance)].append(point)\n",
    "        print(clusters)\n",
    "        # 3 point\n",
    "        for i in range(K):\n",
    "            centers[i] = round(sum(clusters[i]) / len(clusters[i]))\n",
    "        print(centers)\n",
    "        # 4 point\n",
    "        if clusters == clusters0:\n",
    "            break\n",
    "    print(clusters)\n",
    "    "
   ]
  },
  {
   "cell_type": "code",
   "execution_count": 15,
   "metadata": {},
   "outputs": [
    {
     "name": "stdout",
     "output_type": "stream",
     "text": [
      "[[5, 6], [7, 9, 11, 15, 27, 20], [56, 45]]\n",
      "[6, 15, 50]\n",
      "[[7, 5, 6, 9], [11, 15, 27, 20], [56, 45]]\n",
      "[7, 18, 50]\n",
      "[[7, 5, 6, 9, 11], [15, 27, 20], [56, 45]]\n",
      "[8, 21, 50]\n",
      "[[7, 5, 6, 9, 11], [15, 27, 20], [56, 45]]\n",
      "[8, 21, 50]\n",
      "[[7, 5, 6, 9, 11], [15, 27, 20], [56, 45]]\n"
     ]
    }
   ],
   "source": [
    "if __name__ == '__main__':\n",
    "    main()"
   ]
  },
  {
   "cell_type": "code",
   "execution_count": null,
   "metadata": {},
   "outputs": [],
   "source": []
  }
 ],
 "metadata": {
  "interpreter": {
   "hash": "e7370f93d1d0cde622a1f8e1c04877d8463912d04d973331ad4851f04de6915a"
  },
  "kernelspec": {
   "display_name": "Python 3.10.2 64-bit",
   "language": "python",
   "name": "python3"
  },
  "language_info": {
   "codemirror_mode": {
    "name": "ipython",
    "version": 3
   },
   "file_extension": ".py",
   "mimetype": "text/x-python",
   "name": "python",
   "nbconvert_exporter": "python",
   "pygments_lexer": "ipython3",
   "version": "3.10.2"
  },
  "orig_nbformat": 4
 },
 "nbformat": 4,
 "nbformat_minor": 2
}
